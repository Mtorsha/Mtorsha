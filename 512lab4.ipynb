{
  "nbformat": 4,
  "nbformat_minor": 0,
  "metadata": {
    "colab": {
      "provenance": [],
      "authorship_tag": "ABX9TyNdIaumKklvqqGoMmVFBs7E",
      "include_colab_link": true
    },
    "kernelspec": {
      "name": "python3",
      "display_name": "Python 3"
    },
    "language_info": {
      "name": "python"
    }
  },
  "cells": [
    {
      "cell_type": "markdown",
      "metadata": {
        "id": "view-in-github",
        "colab_type": "text"
      },
      "source": [
        "<a href=\"https://colab.research.google.com/github/Mtorsha/Mtorsha/blob/main/512lab4.ipynb\" target=\"_parent\"><img src=\"https://colab.research.google.com/assets/colab-badge.svg\" alt=\"Open In Colab\"/></a>"
      ]
    },
    {
      "cell_type": "code",
      "source": [
        "import pandas as pd\n",
        "import numpy as np\n",
        "from sklearn.preprocessing import StandardScaler,MinMaxScaler\n",
        "\n",
        "class ProcessData:\n",
        "  def GetMatrix(self,file):\n",
        "    return(pd.read_csv(file,header=None).replace({'.*': np.nan},regex=True)) #replacing junks with NaN\n",
        "  \n",
        "  def Remove100Junk(self,df): #checks for NaN(junk), prints a list of and removes the columns which have atleast 100 junks\n",
        "    print('column numbers that have at least 100 junks and are deleted :',list(df.loc[:,df.isna().sum(axis=0)>=100].columns)) #creates the list where >=100 condition returns True\n",
        "    return(df.loc[:,df.isna().sum(axis=0)<100] )\n",
        "\n",
        "  def Remove250Zero(self,df):#checks for zeroes, prints a list of and removes the columns which have atleast 250 zeroes\n",
        "    print('column numbers that have at least 250 zeros  and are deleted: \\n',list(df.loc[:,(df==0).sum(axis=0)>=250].columns)) #creates the list where >=250 condition returns True\n",
        "    return(df.loc[:,(df==0).sum(axis=0)<250])\n",
        "\n",
        "  def RemoveEmptyY(self,df): #prints row numbers and deletes them where first column 'Y' is empty\n",
        "    #creates the list of rows where isna() condition returns True, x:x+1 because pandas starts index at 0 by default.\n",
        "    #therefore row number returned would be one less than the actual row number, hence adding one to get correct row number\n",
        "    print('row numbers that have been deleted: ',list(map(lambda x: x+1, list(df.loc[df[0].isna(),:].index)))) \n",
        "    return(df.loc[df[0].notnull(),:])\n",
        "\n",
        "  def Rescale(self,df):\n",
        "    rescaled=pd.DataFrame(StandardScaler().fit_transform(df),columns=df.columns,index=df.index)\n",
        "    return(rescaled)\n",
        "\n",
        "  def Normalize(self,df):\n",
        "    normalized=(pd.DataFrame(MinMaxScaler().fit_transform(df),columns=df.columns, index=df.index))\n",
        "    return(normalized)\n",
        "\n",
        "processor=ProcessData()\n",
        "M1=processor.GetMatrix(\"/content/Alzheimer2.csv\")\n",
        "print('The data is now inserted into a 2 dimensional array')\n",
        "M2=processor.Remove100Junk(M1)\n",
        "M3=processor.Remove250Zero(M2)\n",
        "M4=processor.RemoveEmptyY(M3)\n",
        "Rescaled=processor.Rescale(M4)\n",
        "print('The Alzheimer Data have been rescaled')\n",
        "Normalized=processor.Normalize(Rescaled)\n",
        "print('The Alzheimer Data have been normalized')\n",
        "with pd.ExcelWriter(\"results.xlsx\") as writer:#create one excel with multiple sheets\n",
        "    M1.to_excel(writer, sheet_name=\"unclean\", header=False,index=False)\n",
        "    M4.to_excel(writer, sheet_name=\"clean\", header=False,index=False)\n",
        "    Rescaled.to_excel(writer, sheet_name=\"Rescaled\", header=False,index=False)\n",
        "    Normalized.to_excel(writer, sheet_name=\"Normalized\", header=False,index=False)"
      ],
      "metadata": {
        "colab": {
          "base_uri": "https://localhost:8080/"
        },
        "id": "2ndHUIZQxJye",
        "outputId": "fa3b799e-b276-402e-c79c-df265a27aa45"
      },
      "execution_count": null,
      "outputs": [
        {
          "output_type": "stream",
          "name": "stdout",
          "text": [
            "The data is now inserted into a 2 dimensional array\n",
            "column numbers that have at least 100 junks and are deleted : []\n",
            "column numbers that have at least 250 zeros  and are deleted: \n",
            " [8, 11, 15, 16, 24, 25, 30, 31, 49, 262, 267, 268, 276, 277, 306, 307, 308, 580, 584, 586, 587, 589, 590, 591, 592, 593, 595, 596, 597, 599, 600, 601, 602, 603, 604, 606, 607, 608, 609, 610, 611, 613, 616, 617, 619, 622, 623, 624, 625, 626, 627, 628, 629, 630, 631, 632, 638, 640, 642, 643, 646, 647, 648, 649, 650, 651, 652, 654, 657, 658, 659, 663, 664, 666, 667, 668, 669, 674, 675, 680, 681, 682, 686, 687, 696, 697, 698, 699, 700, 707, 708, 709, 710, 711, 712, 713, 714, 731, 738, 739, 741, 742, 743, 747, 748, 749, 750, 751, 752, 753, 754, 755, 758, 759, 760, 761, 763, 764, 766, 767, 769, 772, 773, 776, 777, 778, 785, 786, 790, 791, 792, 793, 797, 799, 801, 802, 805, 806, 807, 808, 812, 815, 817, 819, 820, 821, 827, 829, 831, 833, 834, 835, 842, 843, 844, 845, 846, 847, 849, 850, 851, 859, 860, 861, 865, 867, 872, 874, 877, 879, 882, 883, 885, 887, 897, 898, 921, 923, 924, 925, 927, 929, 930, 931, 932, 933, 937, 938, 939, 940, 941, 942, 943, 944, 945, 946, 960, 961, 962, 963, 964, 965, 966, 967, 968, 969, 970, 971, 975, 976, 977, 978, 979, 980, 981, 987, 988]\n",
            "row numbers that have been deleted:  [13, 144, 155]\n",
            "The Alzheimer Data have been rescaled\n",
            "The Alzheimer Data have been normalized\n"
          ]
        }
      ]
    }
  ]
}