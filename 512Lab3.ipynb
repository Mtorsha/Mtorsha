{
  "nbformat": 4,
  "nbformat_minor": 0,
  "metadata": {
    "colab": {
      "provenance": [],
      "authorship_tag": "ABX9TyN/aSk3/gCVpCn8ss5G09NU",
      "include_colab_link": true
    },
    "kernelspec": {
      "name": "python3",
      "display_name": "Python 3"
    },
    "language_info": {
      "name": "python"
    }
  },
  "cells": [
    {
      "cell_type": "markdown",
      "metadata": {
        "id": "view-in-github",
        "colab_type": "text"
      },
      "source": [
        "<a href=\"https://colab.research.google.com/github/Mtorsha/Mtorsha/blob/main/512Lab3.ipynb\" target=\"_parent\"><img src=\"https://colab.research.google.com/assets/colab-badge.svg\" alt=\"Open In Colab\"/></a>"
      ]
    },
    {
      "cell_type": "code",
      "execution_count": null,
      "metadata": {
        "colab": {
          "base_uri": "https://localhost:8080/"
        },
        "id": "vFubIU_PFq53",
        "outputId": "c7c69afe-c549-4496-e800-eb0c9c3c6ab3"
      },
      "outputs": [
        {
          "output_type": "stream",
          "name": "stdout",
          "text": [
            "Enter the dimension of your matrix: 6\n",
            "The content of the first matrix is:\n",
            "  1  2  3  4  5  6\n",
            "  7  8  9 10 11 12\n",
            " 13 14 15 16 17 18\n",
            " 19 20 21 22 23 24\n",
            " 25 26 27 28 29 30\n",
            " 31 32 33 34 35 36 \n",
            "\n",
            "The content of the second matrix is:\n",
            "   123    21   320   140   512   160\n",
            "   117   810   910   123  1210   220\n",
            "     0    11   121     0    10  1120\n",
            "  1090   222   111   124  1230  1140\n",
            " 12150     0  2720  2118  2191  1310\n",
            "  3110 11320  1301  3140  1210  3160 \n",
            "\n",
            "The product of the two matrices is:\n",
            "    123     42    960    560   2560    960\n",
            "    819   6480   8190   1230  13310   2640\n",
            "      0    154   1815      0    170  20160\n",
            "  20710   4440   2331   2728  28290  27360\n",
            " 303750      0  73440  59304  63539  39300\n",
            "  96410 362240  42933 106760  42350 113760 \n",
            "\n",
            "The dot-product of the two matrices is:\n",
            "  84127  70482  24353  30312  26097  34030\n",
            " 183667 144786  57251  64182  64275  76690\n",
            " 283207 219090  90149  98052 102453 119350\n",
            " 382747 293394 123047 131922 140631 162010\n",
            " 482287 367698 155945 165792 178809 204670\n",
            " 581827 442002 188843 199662 216987 247330 \n",
            "\n",
            "The result of matrix1 divided by matrix2 rounded to 2 decimal places is:\n",
            " 0.01 0.1  0.01 0.03 0.01 0.04\n",
            " 0.06 0.01 0.01 0.08 0.01 0.05\n",
            " undef 1.27 0.12 undef 1.7  0.02\n",
            " 0.02 0.09 0.19 0.18 0.02 0.02\n",
            " 0.   undef 0.01 0.01 0.01 0.02\n",
            " 0.01 0.   0.03 0.01 0.03 0.01 \n",
            "\n",
            "The original result of matrix1 divided by matrix2 is:\n",
            " 0.00813008 0.0952381  0.009375   0.02857143 0.00976562 0.0375    \n",
            " 0.05982906 0.00987654 0.00989011 0.08130081 0.00909091 0.05454545\n",
            "      undef 1.27272727 0.12396694      undef 1.7        0.01607143\n",
            " 0.01743119 0.09009009 0.18918919 0.17741935 0.01869919 0.02105263\n",
            " 0.00205761      undef 0.00992647 0.01322002 0.01323597 0.02290076\n",
            " 0.00996785 0.00282686 0.0253651  0.01082803 0.02892562 0.01139241 \n",
            "\n",
            "The result of matrix1 divided by matrix2 with 2 significant digits is:\n",
            " 0.0081 0.095  0.0094 0.029  0.0098 0.037 \n",
            " 0.06   0.0099 0.0099 0.081  0.0091 0.055 \n",
            "  undef 1.3    0.12    undef 1.7    0.016 \n",
            " 0.017  0.09   0.19   0.18   0.019  0.021 \n",
            " 0.0021  undef 0.0099 0.013  0.013  0.023 \n",
            " 0.01   0.0028 0.025  0.011  0.029  0.011  \n",
            "\n"
          ]
        },
        {
          "output_type": "stream",
          "name": "stderr",
          "text": [
            "/usr/local/lib/python3.7/dist-packages/ipykernel_launcher.py:28: FutureWarning: elementwise comparison failed; returning scalar instead, but in the future will perform elementwise comparison\n",
            "/usr/local/lib/python3.7/dist-packages/ipykernel_launcher.py:34: FutureWarning: elementwise comparison failed; returning scalar instead, but in the future will perform elementwise comparison\n",
            "/usr/local/lib/python3.7/dist-packages/ipykernel_launcher.py:17: RuntimeWarning: divide by zero encountered in true_divide\n"
          ]
        }
      ],
      "source": [
        "import decimal\n",
        "import numpy as np\n",
        "import sys\n",
        "\n",
        "class Matrix:\n",
        "  def GetMatrix(self,N,file):\n",
        "    data = np.loadtxt(file, dtype=int) # read text file into numpy array\n",
        "    return('error' if (N*N) > np.ma.count(data,axis=None) else np.array(data.flatten()[:(N*N)]).reshape(N,N) ) #form a N*N array with first N*N elements\n",
        "    \n",
        "  def Product(self,M1,M2):\n",
        "      return(np.multiply(M1,M2))\n",
        "  \n",
        "  def DotProduct(self,M1,M2):\n",
        "      return(np.dot(M1,M2))\n",
        "\n",
        "  def Division(self,M1,M2):\n",
        "      return(np.divide(M1,M2))\n",
        "\n",
        "N = int(input(\"Enter the dimension of your matrix: \"))\n",
        "if N<=3:\n",
        "  print('Error: ***** This dimension is out of bound. The program stops in here.')\n",
        "elif N>8:\n",
        "  print('Error: ***** We can only handle up to 8 dimensions at this time. The program stops in here.')\n",
        "else:\n",
        "    myMatrix=Matrix()\n",
        "    M1=myMatrix.GetMatrix(N,'/content/file1.txt')\n",
        "    #if there are less than N*N numbers in the file, report error and quit the program\n",
        "    if M1=='error':\n",
        "      print('File 1 does not have ',(N*N),' records')\n",
        "    else:\n",
        "      print('The content of the first matrix is:\\n',str(M1).replace('[','').replace(']',''),'\\n')\n",
        "      M2=myMatrix.GetMatrix(N,'/content/file3.txt')\n",
        "      #if there are less than N*N numbers in the file, report error and quit the program\n",
        "      if M2=='error':\n",
        "        print('File 2 does not have ',(N*N),' records')\n",
        "      else:\n",
        "        print('The content of the second matrix is:\\n',str(M2).replace('[','').replace(']',''),'\\n')\n",
        "        M1_Multiply_M2 = myMatrix.Product(M1, M2)\n",
        "        print('The product of the two matrices is:\\n',str(M1_Multiply_M2).replace('[','').replace(']',''),'\\n')\n",
        "        M1_DotMultiply_M2 = myMatrix.DotProduct(M1, M2)\n",
        "        print('The dot-product of the two matrices is:\\n',str(M1_DotMultiply_M2).replace('[','').replace(']',''),'\\n')\n",
        "        M1_Divde_M2 = myMatrix.Division(M1, M2)\n",
        "        print('The result of matrix1 divided by matrix2 rounded to 2 decimal places is:\\n',str(np.round_(M1_Divde_M2, decimals=2)).replace('[','').replace(']','').replace('  inf',' undef'),'\\n')\n",
        "# Extra code to show data upto 2 significant figures        \n",
        "        print('The original result of matrix1 divided by matrix2 is:\\n',str(M1_Divde_M2).replace('[','').replace(']','').replace('  inf','undef'),'\\n')\n",
        "        #significant digits :each of the digits of a number that are used to express it to the required degree of accuracy, starting from the first nonzero digit.\n",
        "        for x in np.nditer(M1_Divde_M2, op_flags=['readwrite']):\n",
        "          x[...] =np.format_float_positional(x,precision=2,fractional=False)\n",
        "        print('The result of matrix1 divided by matrix2 with 2 significant digits is:\\n',str(M1_Divde_M2).replace('[','').replace(']','').replace('  inf','undef'),'\\n')"
      ]
    }
  ]
}